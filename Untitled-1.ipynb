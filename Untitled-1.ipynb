{
 "cells": [
  {
   "cell_type": "markdown",
   "id": "c36e62fd",
   "metadata": {},
   "source": [
    "# Import Required Libraries\n",
    "Import necessary libraries such as pandas, numpy, matplotlib, seaborn, and sklearn."
   ]
  },
  {
   "cell_type": "code",
   "execution_count": null,
   "id": "24bf6aa3",
   "metadata": {},
   "outputs": [],
   "source": [
    "# Import Required Libraries\n",
    "import pandas as pd\n",
    "import numpy as np\n",
    "import matplotlib.pyplot as plt\n",
    "import seaborn as sns\n",
    "from sklearn.model_selection import train_test_split\n",
    "from sklearn.ensemble import RandomForestClassifier\n",
    "from sklearn.metrics import classification_report, accuracy_score"
   ]
  },
  {
   "cell_type": "markdown",
   "id": "a7caba59",
   "metadata": {},
   "source": [
    "# Load and Inspect Dataset\n",
    "Load the dataset using pandas, display the first few rows, and check the dataset's structure using `df.info()`."
   ]
  },
  {
   "cell_type": "code",
   "execution_count": null,
   "id": "25bc0d5d",
   "metadata": {},
   "outputs": [],
   "source": [
    "# Load and Inspect Dataset\n",
    "df = pd.read_csv(\"DepressionData.csv\")\n",
    "print(df.head())\n",
    "df.info()"
   ]
  },
  {
   "cell_type": "markdown",
   "id": "12172e1a",
   "metadata": {},
   "source": [
    "# Handle Missing Values\n",
    "Drop rows with missing values and verify the absence of null values using `df.isnull().sum()`."
   ]
  },
  {
   "cell_type": "code",
   "execution_count": null,
   "id": "6181cd2e",
   "metadata": {},
   "outputs": [],
   "source": [
    "# Handle Missing Values\n",
    "df.dropna(inplace=True)\n",
    "print(df.isnull().sum())"
   ]
  },
  {
   "cell_type": "markdown",
   "id": "4c586fa9",
   "metadata": {},
   "source": [
    "# Explore Unique Values\n",
    "Explore unique values in categorical columns such as 'Financial Stress', 'Work Pressure', 'Job Satisfaction', etc."
   ]
  },
  {
   "cell_type": "code",
   "execution_count": null,
   "id": "983e563c",
   "metadata": {},
   "outputs": [],
   "source": [
    "# Explore Unique Values\n",
    "print(df[\"Financial Stress\"].unique())\n",
    "print(df[\"Work Pressure\"].unique())\n",
    "print(df[\"Job Satisfaction\"].unique())"
   ]
  },
  {
   "cell_type": "markdown",
   "id": "e71257c5",
   "metadata": {},
   "source": [
    "# Map Categorical Data\n",
    "Map categorical data to numerical values for columns like 'City', 'Degree', 'Dietary Habits', 'Gender', and others."
   ]
  },
  {
   "cell_type": "code",
   "execution_count": null,
   "id": "0de8d9a8",
   "metadata": {},
   "outputs": [],
   "source": [
    "# Map Categorical Data\n",
    "city_mapping = {value: idx + 1 for idx, value in enumerate(df[\"City\"].unique())}\n",
    "df[\"City\"] = df[\"City\"].map(city_mapping)\n",
    "\n",
    "degree_mapping = {value: idx + 1 for idx, value in enumerate(df[\"Degree\"].unique())}\n",
    "df[\"Degree\"] = df[\"Degree\"].map(degree_mapping)\n",
    "\n",
    "dietary_mapping = {\"Healthy\": 1, \"Moderate\": 2, \"Unhealthy\": 3, \"Others\": 4}\n",
    "df[\"Dietary Habits\"] = df[\"Dietary Habits\"].map(dietary_mapping)\n",
    "\n",
    "gender_mapping = {\"Male\": 1, \"Female\": 2}\n",
    "df[\"Gender\"] = df[\"Gender\"].map(gender_mapping)"
   ]
  },
  {
   "cell_type": "markdown",
   "id": "aaf1c9cb",
   "metadata": {},
   "source": [
    "# Transform Sleep Duration\n",
    "Extract numerical values from the 'Sleep Duration' column and calculate the midpoint for intervals."
   ]
  },
  {
   "cell_type": "code",
   "execution_count": null,
   "id": "ef5a4f19",
   "metadata": {},
   "outputs": [],
   "source": [
    "# Transform Sleep Duration\n",
    "import re\n",
    "\n",
    "def extract_numbers(input_string):\n",
    "    numbers = list(map(float, re.findall(r\"\\d+\\.?\\d*\", input_string)))\n",
    "    return numbers\n",
    "\n",
    "def calculate_midpoint(numbers):\n",
    "    if len(numbers) == 1:\n",
    "        return numbers[0]\n",
    "    elif len(numbers) == 2:\n",
    "        return (numbers[0] + numbers[1]) / 2\n",
    "\n",
    "df[\"Sleep Duration\"] = df[\"Sleep Duration\"].apply(extract_numbers).apply(calculate_midpoint)"
   ]
  },
  {
   "cell_type": "markdown",
   "id": "cac1e609",
   "metadata": {},
   "source": [
    "# Correlation Analysis\n",
    "Generate a correlation matrix and visualize it using a heatmap with seaborn."
   ]
  },
  {
   "cell_type": "code",
   "execution_count": null,
   "id": "d8243a79",
   "metadata": {},
   "outputs": [],
   "source": [
    "# Correlation Analysis\n",
    "plt.figure(figsize=(10, 10))\n",
    "sns.heatmap(df.corr(), annot=True, fmt=\".1f\", cmap=\"viridis\")\n",
    "plt.title(\"Heatmap of Correlation\")\n",
    "plt.savefig(\"CorrelationHeatmap.jpg\")\n",
    "plt.show()"
   ]
  },
  {
   "cell_type": "markdown",
   "id": "5f5d99ce",
   "metadata": {},
   "source": [
    "# Feature Engineering\n",
    "Create a new feature 'total Stress' by summing up 'Academic Pressure', 'Work Pressure', and 'Financial Stress'."
   ]
  },
  {
   "cell_type": "code",
   "execution_count": null,
   "id": "87dff24b",
   "metadata": {},
   "outputs": [],
   "source": [
    "# Feature Engineering\n",
    "df[\"total Stress\"] = df[\"Academic Pressure\"] + df[\"Work Pressure\"] + df[\"Financial Stress\"]"
   ]
  },
  {
   "cell_type": "markdown",
   "id": "5dd04ab1",
   "metadata": {},
   "source": [
    "# Train and Evaluate Model\n",
    "Split the data into training and testing sets, train a RandomForestClassifier, and evaluate its performance using accuracy and classification report."
   ]
  },
  {
   "cell_type": "code",
   "execution_count": null,
   "id": "a503db5b",
   "metadata": {},
   "outputs": [],
   "source": [
    "# Train and Evaluate Model\n",
    "X = df[[\"total Stress\", \"Sleep Duration\"]]\n",
    "Y = df[\"Depression\"]\n",
    "\n",
    "X_train, X_test, y_train, y_test = train_test_split(X, Y, test_size=0.2, random_state=42)\n",
    "\n",
    "model = RandomForestClassifier(random_state=42)\n",
    "model.fit(X_train, y_train)\n",
    "\n",
    "y_pred = model.predict(X_test)\n",
    "\n",
    "print(\"Accuracy:\", accuracy_score(y_test, y_pred))\n",
    "print(\"Classification Report:\\n\", classification_report(y_test, y_pred))\n",
    "\n",
    "df[\"Depression_Predicted\"] = model.predict(X)"
   ]
  },
  {
   "cell_type": "markdown",
   "id": "7ec099e4",
   "metadata": {},
   "source": [
    "# Save and Reload Processed Data\n",
    "Save the processed dataset to a CSV file and reload it for further analysis or visualization."
   ]
  },
  {
   "cell_type": "code",
   "execution_count": null,
   "id": "3a0376b4",
   "metadata": {},
   "outputs": [],
   "source": [
    "# Save and Reload Processed Data\n",
    "df.to_csv(\"ProcessedDepressionData.csv\", index=False)\n",
    "df = pd.read_csv(\"ProcessedDepressionData.csv\")\n",
    "print(df.head())"
   ]
  }
 ],
 "metadata": {
  "language_info": {
   "name": "python"
  }
 },
 "nbformat": 4,
 "nbformat_minor": 5
}
